{
 "cells": [
  {
   "cell_type": "markdown",
   "metadata": {},
   "source": [
    "# Programmetry Outline\n",
    "John R. Starr; jrs294@pitt.edu\n",
    "- Created: 12/13/19\n",
    "- Last modified: 12/13/19\n",
    "\n",
    "Outline:\n",
    "- [Goals of the Program](#Goals-of-the-Program)\n",
    "- [Relevant Literature](#Relevant-Literature)\n",
    "- [Expected Process](#Expected-Process)\n",
    "- [Conclusions](#Conclusions)"
   ]
  },
  {
   "cell_type": "markdown",
   "metadata": {},
   "source": [
    "### Goals of the Program"
   ]
  },
  {
   "cell_type": "markdown",
   "metadata": {},
   "source": [
    "Programmetry aims to achieve the following initial goals by January 6th, 2020:\n",
    "- Process a large corpus of poems with machine learning\n",
    "- Produce free-verse poetry\n",
    "    - Perhaps to resemble an individual poet"
   ]
  },
  {
   "cell_type": "markdown",
   "metadata": {},
   "source": [
    "### Relevant Literature"
   ]
  },
  {
   "cell_type": "markdown",
   "metadata": {},
   "source": [
    "TBD"
   ]
  },
  {
   "cell_type": "markdown",
   "metadata": {},
   "source": [
    "### Expected Process"
   ]
  },
  {
   "cell_type": "markdown",
   "metadata": {},
   "source": [
    "Based on my previous experience and brief research, I expect the project's pipeline to look as follows:\n",
    "- Find corpus/corpora of 16th-20th century poetry\n",
    "    - Distinguish poems into individual pieces and label by author (in order to maintain reversible process)\n",
    "- Break down texts to provide meta-analytical vectors (word count, number of functional words, etc.)\n",
    "    - Continue this in DataFrame\n",
    "- Machine-learning program that uses object-oriented programming to construct individual stanzas ** FIGURE THIS OUT**\n",
    "- Writing out the files"
   ]
  },
  {
   "cell_type": "markdown",
   "metadata": {},
   "source": [
    "### Conclusions"
   ]
  },
  {
   "cell_type": "markdown",
   "metadata": {},
   "source": [
    "TBD"
   ]
  }
 ],
 "metadata": {
  "kernelspec": {
   "display_name": "Python 3",
   "language": "python",
   "name": "python3"
  },
  "language_info": {
   "codemirror_mode": {
    "name": "ipython",
    "version": 3
   },
   "file_extension": ".py",
   "mimetype": "text/x-python",
   "name": "python",
   "nbconvert_exporter": "python",
   "pygments_lexer": "ipython3",
   "version": "3.7.1"
  }
 },
 "nbformat": 4,
 "nbformat_minor": 2
}
